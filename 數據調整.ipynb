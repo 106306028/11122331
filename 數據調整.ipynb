{
 "cells": [
  {
   "cell_type": "code",
   "execution_count": 1,
   "metadata": {},
   "outputs": [],
   "source": [
    "#import modules\n",
    "import pandas as pd # for dataframes\n",
    "import matplotlib.pyplot as plt # for plotting graphs\n",
    "import seaborn as sns # for plotting graphs\n",
    "import datetime as dt\n",
    "import numpy as np\n",
    "from sklearn import cluster, datasets #for k-means\n",
    "\n",
    "\n",
    "# go to file directory"
   ]
  },
  {
   "cell_type": "code",
   "execution_count": 2,
   "metadata": {},
   "outputs": [
    {
     "name": "stdout",
     "output_type": "stream",
     "text": [
      "[WinError 2] 系統找不到指定的檔案。: 'desktop'\n",
      "G:\\我的雲端硬碟\\大數據分析實務\\HW2\n"
     ]
    }
   ],
   "source": [
    "#%cd desktop"
   ]
  },
  {
   "cell_type": "code",
   "execution_count": 27,
   "metadata": {},
   "outputs": [
    {
     "data": {
      "text/html": [
       "<div>\n",
       "<style scoped>\n",
       "    .dataframe tbody tr th:only-of-type {\n",
       "        vertical-align: middle;\n",
       "    }\n",
       "\n",
       "    .dataframe tbody tr th {\n",
       "        vertical-align: top;\n",
       "    }\n",
       "\n",
       "    .dataframe thead th {\n",
       "        text-align: right;\n",
       "    }\n",
       "</style>\n",
       "<table border=\"1\" class=\"dataframe\">\n",
       "  <thead>\n",
       "    <tr style=\"text-align: right;\">\n",
       "      <th></th>\n",
       "      <th>UID</th>\n",
       "      <th>payment_date</th>\n",
       "      <th>amount</th>\n",
       "      <th>YEAR</th>\n",
       "      <th>MONTH</th>\n",
       "      <th>DAY</th>\n",
       "    </tr>\n",
       "  </thead>\n",
       "  <tbody>\n",
       "    <tr>\n",
       "      <td>0</td>\n",
       "      <td>3753824</td>\n",
       "      <td>2018-09-21 07:54:38</td>\n",
       "      <td>450</td>\n",
       "      <td>2018</td>\n",
       "      <td>9</td>\n",
       "      <td>21</td>\n",
       "    </tr>\n",
       "    <tr>\n",
       "      <td>1</td>\n",
       "      <td>3884784</td>\n",
       "      <td>2017-02-13 05:48:00</td>\n",
       "      <td>1000</td>\n",
       "      <td>2017</td>\n",
       "      <td>2</td>\n",
       "      <td>13</td>\n",
       "    </tr>\n",
       "    <tr>\n",
       "      <td>2</td>\n",
       "      <td>3884784</td>\n",
       "      <td>2017-11-15 12:23:36</td>\n",
       "      <td>1000</td>\n",
       "      <td>2017</td>\n",
       "      <td>11</td>\n",
       "      <td>15</td>\n",
       "    </tr>\n",
       "    <tr>\n",
       "      <td>3</td>\n",
       "      <td>3884784</td>\n",
       "      <td>2017-12-13 11:47:55</td>\n",
       "      <td>50</td>\n",
       "      <td>2017</td>\n",
       "      <td>12</td>\n",
       "      <td>13</td>\n",
       "    </tr>\n",
       "    <tr>\n",
       "      <td>4</td>\n",
       "      <td>3884784</td>\n",
       "      <td>2017-12-13 11:53:03</td>\n",
       "      <td>50</td>\n",
       "      <td>2017</td>\n",
       "      <td>12</td>\n",
       "      <td>13</td>\n",
       "    </tr>\n",
       "  </tbody>\n",
       "</table>\n",
       "</div>"
      ],
      "text/plain": [
       "       UID         payment_date  amount  YEAR  MONTH  DAY\n",
       "0  3753824  2018-09-21 07:54:38     450  2018      9   21\n",
       "1  3884784  2017-02-13 05:48:00    1000  2017      2   13\n",
       "2  3884784  2017-11-15 12:23:36    1000  2017     11   15\n",
       "3  3884784  2017-12-13 11:47:55      50  2017     12   13\n",
       "4  3884784  2017-12-13 11:53:03      50  2017     12   13"
      ]
     },
     "execution_count": 27,
     "metadata": {},
     "output_type": "execute_result"
    }
   ],
   "source": [
    "df = pd.read_csv(\"not_over_user_payment.csv\")\n",
    "df.head()"
   ]
  },
  {
   "cell_type": "code",
   "execution_count": 34,
   "metadata": {},
   "outputs": [],
   "source": [
    "#df[df['amount']>1000].head(20)\n",
    "df = df[df['amount']<1000]\n",
    "df = df[df['amount']>25]\n",
    "df.amount.replace(30, 25,inplace = True)"
   ]
  },
  {
   "cell_type": "code",
   "execution_count": 31,
   "metadata": {},
   "outputs": [
    {
     "name": "stdout",
     "output_type": "stream",
     "text": [
      "<class 'pandas.core.frame.DataFrame'>\n",
      "Int64Index: 12281 entries, 0 to 31695\n",
      "Data columns (total 6 columns):\n",
      "UID             12281 non-null int64\n",
      "payment_date    12281 non-null object\n",
      "amount          12281 non-null int64\n",
      "YEAR            12281 non-null int64\n",
      "MONTH           12281 non-null int64\n",
      "DAY             12281 non-null int64\n",
      "dtypes: int64(5), object(1)\n",
      "memory usage: 671.6+ KB\n"
     ]
    }
   ],
   "source": [
    "df.info()"
   ]
  },
  {
   "cell_type": "code",
   "execution_count": 35,
   "metadata": {},
   "outputs": [
    {
     "data": {
      "text/plain": [
       "count    12281.000000\n",
       "mean       319.277339\n",
       "std        177.425298\n",
       "min         25.000000\n",
       "25%        150.000000\n",
       "50%        300.000000\n",
       "75%        500.000000\n",
       "max        900.000000\n",
       "Name: amount, dtype: float64"
      ]
     },
     "execution_count": 35,
     "metadata": {},
     "output_type": "execute_result"
    }
   ],
   "source": [
    "df.amount.describe()\n",
    "#df.amount.head(100)"
   ]
  },
  {
   "cell_type": "code",
   "execution_count": 59,
   "metadata": {},
   "outputs": [],
   "source": [
    "df['payment_date'] = pd.to_datetime(df['payment_date'])"
   ]
  },
  {
   "cell_type": "code",
   "execution_count": 57,
   "metadata": {},
   "outputs": [
    {
     "name": "stderr",
     "output_type": "stream",
     "text": [
      "C:\\Users\\una18\\Anaconda3\\lib\\site-packages\\pandas\\core\\indexing.py:205: SettingWithCopyWarning: \n",
      "A value is trying to be set on a copy of a slice from a DataFrame\n",
      "\n",
      "See the caveats in the documentation: http://pandas.pydata.org/pandas-docs/stable/user_guide/indexing.html#returning-a-view-versus-a-copy\n",
      "  self._setitem_with_indexer(indexer, value)\n"
     ]
    }
   ],
   "source": [
    "for i in range(len(df.payment_date)):\n",
    "    df.payment_date.iloc[i] = df.payment_date.iloc[i]+dt.timedelta(days=+426)"
   ]
  },
  {
   "cell_type": "code",
   "execution_count": 58,
   "metadata": {},
   "outputs": [
    {
     "data": {
      "text/plain": [
       "count                   12281\n",
       "unique                  12087\n",
       "top       2019-05-09 00:26:07\n",
       "freq                        2\n",
       "first     2018-03-03 08:44:49\n",
       "last      2019-11-30 19:31:35\n",
       "Name: payment_date, dtype: object"
      ]
     },
     "execution_count": 58,
     "metadata": {},
     "output_type": "execute_result"
    }
   ],
   "source": [
    "df.payment_date.describe()"
   ]
  },
  {
   "cell_type": "code",
   "execution_count": 60,
   "metadata": {},
   "outputs": [],
   "source": [
    "df.to_csv('user_payment.csv')"
   ]
  },
  {
   "cell_type": "code",
   "execution_count": null,
   "metadata": {},
   "outputs": [],
   "source": []
  },
  {
   "cell_type": "code",
   "execution_count": null,
   "metadata": {},
   "outputs": [],
   "source": []
  },
  {
   "cell_type": "code",
   "execution_count": null,
   "metadata": {},
   "outputs": [],
   "source": []
  },
  {
   "cell_type": "code",
   "execution_count": null,
   "metadata": {},
   "outputs": [],
   "source": []
  },
  {
   "cell_type": "code",
   "execution_count": null,
   "metadata": {},
   "outputs": [],
   "source": []
  },
  {
   "cell_type": "code",
   "execution_count": 8,
   "metadata": {},
   "outputs": [
    {
     "name": "stdout",
     "output_type": "stream",
     "text": [
      "<class 'pandas.core.frame.DataFrame'>\n",
      "RangeIndex: 31696 entries, 0 to 31695\n",
      "Data columns (total 6 columns):\n",
      "UID            31696 non-null int64\n",
      "trans_date     31696 non-null datetime64[ns]\n",
      "tran_amount    31696 non-null int64\n",
      "YEAR           31696 non-null int64\n",
      "MONTH          31696 non-null int64\n",
      "DAY            31696 non-null int64\n",
      "dtypes: datetime64[ns](1), int64(5)\n",
      "memory usage: 1.5 MB\n"
     ]
    }
   ],
   "source": [
    "df.columns = [\"UID\", \"trans_date\",\"tran_amount\",\"YEAR\",\"MONTH\",\"DAY\"] #改成英文\n",
    "df['trans_date'] = pd.to_datetime(df['trans_date']) #object to datetime\n",
    "df.info()"
   ]
  },
  {
   "cell_type": "code",
   "execution_count": 9,
   "metadata": {},
   "outputs": [
    {
     "name": "stdout",
     "output_type": "stream",
     "text": [
      "2017-01-01 08:04:26 2018-09-30 23:12:45\n"
     ]
    }
   ],
   "source": [
    "print(df['trans_date'].min(), df['trans_date'].max())"
   ]
  },
  {
   "cell_type": "code",
   "execution_count": 10,
   "metadata": {},
   "outputs": [
    {
     "name": "stdout",
     "output_type": "stream",
     "text": [
      "<class 'pandas.core.frame.DataFrame'>\n",
      "RangeIndex: 31696 entries, 0 to 31695\n",
      "Data columns (total 7 columns):\n",
      "UID            31696 non-null int64\n",
      "trans_date     31696 non-null datetime64[ns]\n",
      "tran_amount    31696 non-null int64\n",
      "YEAR           31696 non-null int64\n",
      "MONTH          31696 non-null int64\n",
      "DAY            31696 non-null int64\n",
      "hist           31696 non-null float64\n",
      "dtypes: datetime64[ns](1), float64(1), int64(5)\n",
      "memory usage: 1.7 MB\n"
     ]
    }
   ],
   "source": [
    "sd = dt.datetime(2018,11,22)\n",
    "df['hist']=sd - df['trans_date']\n",
    "df['hist'].astype('timedelta64[D]')\n",
    "df['hist']=(df['hist'] / np.timedelta64(1, 'D'))\n",
    "df.info()"
   ]
  },
  {
   "cell_type": "code",
   "execution_count": 11,
   "metadata": {},
   "outputs": [],
   "source": [
    "rfmTable = df.groupby('UID').agg({'hist': lambda x:x.min(),                   # Recency\n",
    "                                  'UID': lambda x: len(x),            # Frequency\n",
    "                                  'tran_amount': lambda x: x.sum()})          # Monetary Value\n",
    "\n",
    "rfmTable.rename(columns={'hist': 'recency', \n",
    "                         'UID': 'frequency', \n",
    "                         'tran_amount': 'monetary_value'}, inplace=True)"
   ]
  },
  {
   "cell_type": "code",
   "execution_count": 13,
   "metadata": {},
   "outputs": [
    {
     "data": {
      "text/html": [
       "<div>\n",
       "<style scoped>\n",
       "    .dataframe tbody tr th:only-of-type {\n",
       "        vertical-align: middle;\n",
       "    }\n",
       "\n",
       "    .dataframe tbody tr th {\n",
       "        vertical-align: top;\n",
       "    }\n",
       "\n",
       "    .dataframe thead th {\n",
       "        text-align: right;\n",
       "    }\n",
       "</style>\n",
       "<table border=\"1\" class=\"dataframe\">\n",
       "  <thead>\n",
       "    <tr style=\"text-align: right;\">\n",
       "      <th></th>\n",
       "      <th>recency</th>\n",
       "      <th>frequency</th>\n",
       "      <th>monetary_value</th>\n",
       "    </tr>\n",
       "    <tr>\n",
       "      <th>UID</th>\n",
       "      <th></th>\n",
       "      <th></th>\n",
       "      <th></th>\n",
       "    </tr>\n",
       "  </thead>\n",
       "  <tbody>\n",
       "    <tr>\n",
       "      <th>1341104</th>\n",
       "      <td>108.877627</td>\n",
       "      <td>28</td>\n",
       "      <td>12950</td>\n",
       "    </tr>\n",
       "    <tr>\n",
       "      <th>1361552</th>\n",
       "      <td>75.383009</td>\n",
       "      <td>3</td>\n",
       "      <td>1015</td>\n",
       "    </tr>\n",
       "    <tr>\n",
       "      <th>1368368</th>\n",
       "      <td>94.882743</td>\n",
       "      <td>116</td>\n",
       "      <td>249300</td>\n",
       "    </tr>\n",
       "    <tr>\n",
       "      <th>1369904</th>\n",
       "      <td>100.724826</td>\n",
       "      <td>60</td>\n",
       "      <td>104260</td>\n",
       "    </tr>\n",
       "    <tr>\n",
       "      <th>1374736</th>\n",
       "      <td>66.150521</td>\n",
       "      <td>18</td>\n",
       "      <td>20300</td>\n",
       "    </tr>\n",
       "  </tbody>\n",
       "</table>\n",
       "</div>"
      ],
      "text/plain": [
       "            recency  frequency  monetary_value\n",
       "UID                                           \n",
       "1341104  108.877627         28           12950\n",
       "1361552   75.383009          3            1015\n",
       "1368368   94.882743        116          249300\n",
       "1369904  100.724826         60          104260\n",
       "1374736   66.150521         18           20300"
      ]
     },
     "execution_count": 13,
     "metadata": {},
     "output_type": "execute_result"
    }
   ],
   "source": [
    "rfmTable.head()"
   ]
  },
  {
   "cell_type": "code",
   "execution_count": 14,
   "metadata": {},
   "outputs": [
    {
     "data": {
      "text/html": [
       "<div>\n",
       "<style scoped>\n",
       "    .dataframe tbody tr th:only-of-type {\n",
       "        vertical-align: middle;\n",
       "    }\n",
       "\n",
       "    .dataframe tbody tr th {\n",
       "        vertical-align: top;\n",
       "    }\n",
       "\n",
       "    .dataframe thead th {\n",
       "        text-align: right;\n",
       "    }\n",
       "</style>\n",
       "<table border=\"1\" class=\"dataframe\">\n",
       "  <thead>\n",
       "    <tr style=\"text-align: right;\">\n",
       "      <th></th>\n",
       "      <th>recency</th>\n",
       "      <th>frequency</th>\n",
       "      <th>monetary_value</th>\n",
       "    </tr>\n",
       "  </thead>\n",
       "  <tbody>\n",
       "    <tr>\n",
       "      <th>count</th>\n",
       "      <td>1263.000000</td>\n",
       "      <td>1263.000000</td>\n",
       "      <td>1.263000e+03</td>\n",
       "    </tr>\n",
       "    <tr>\n",
       "      <th>mean</th>\n",
       "      <td>80.988329</td>\n",
       "      <td>25.095804</td>\n",
       "      <td>4.147412e+04</td>\n",
       "    </tr>\n",
       "    <tr>\n",
       "      <th>std</th>\n",
       "      <td>18.577013</td>\n",
       "      <td>39.869870</td>\n",
       "      <td>1.303419e+05</td>\n",
       "    </tr>\n",
       "    <tr>\n",
       "      <th>min</th>\n",
       "      <td>52.032812</td>\n",
       "      <td>1.000000</td>\n",
       "      <td>5.000000e+01</td>\n",
       "    </tr>\n",
       "    <tr>\n",
       "      <th>25%</th>\n",
       "      <td>65.655683</td>\n",
       "      <td>5.000000</td>\n",
       "      <td>2.150000e+03</td>\n",
       "    </tr>\n",
       "    <tr>\n",
       "      <th>50%</th>\n",
       "      <td>76.671308</td>\n",
       "      <td>12.000000</td>\n",
       "      <td>7.900000e+03</td>\n",
       "    </tr>\n",
       "    <tr>\n",
       "      <th>75%</th>\n",
       "      <td>98.713889</td>\n",
       "      <td>30.000000</td>\n",
       "      <td>3.239500e+04</td>\n",
       "    </tr>\n",
       "    <tr>\n",
       "      <th>max</th>\n",
       "      <td>112.808900</td>\n",
       "      <td>704.000000</td>\n",
       "      <td>2.623250e+06</td>\n",
       "    </tr>\n",
       "  </tbody>\n",
       "</table>\n",
       "</div>"
      ],
      "text/plain": [
       "           recency    frequency  monetary_value\n",
       "count  1263.000000  1263.000000    1.263000e+03\n",
       "mean     80.988329    25.095804    4.147412e+04\n",
       "std      18.577013    39.869870    1.303419e+05\n",
       "min      52.032812     1.000000    5.000000e+01\n",
       "25%      65.655683     5.000000    2.150000e+03\n",
       "50%      76.671308    12.000000    7.900000e+03\n",
       "75%      98.713889    30.000000    3.239500e+04\n",
       "max     112.808900   704.000000    2.623250e+06"
      ]
     },
     "execution_count": 14,
     "metadata": {},
     "output_type": "execute_result"
    }
   ],
   "source": [
    "rfmTable.describe()"
   ]
  },
  {
   "cell_type": "code",
   "execution_count": 15,
   "metadata": {},
   "outputs": [
    {
     "name": "stdout",
     "output_type": "stream",
     "text": [
      "        recency  frequency  monetary_value\n",
      "0.25  65.655683        5.0          2150.0\n",
      "0.50  76.671308       12.0          7900.0\n",
      "0.75  98.713889       30.0         32395.0 <class 'pandas.core.frame.DataFrame'>\n"
     ]
    }
   ],
   "source": [
    "quartiles = rfmTable.quantile(q=[0.25,0.50,0.75])\n",
    "print(quartiles, type(quartiles))"
   ]
  },
  {
   "cell_type": "code",
   "execution_count": 16,
   "metadata": {},
   "outputs": [],
   "source": [
    "## for Recency \n",
    "def RClass(x,p,d):\n",
    "    if x <= d[p][0.5]:\n",
    "        return 0\n",
    "    else:\n",
    "        return 1\n",
    "    \n",
    "## for Frequency and Monetary value \n",
    "def FMClass(x,p,d):\n",
    "    if x <= d[p][0.5]:\n",
    "        return 1\n",
    "    else:\n",
    "        return 0   "
   ]
  },
  {
   "cell_type": "code",
   "execution_count": 17,
   "metadata": {},
   "outputs": [],
   "source": [
    "rfmSeg = rfmTable\n",
    "rfmSeg['R_Mean'] = rfmSeg['recency'].apply(RClass, args=('recency',quartiles,))\n",
    "rfmSeg['F_Mean'] = rfmSeg['frequency'].apply(FMClass, args=('frequency',quartiles,))\n",
    "rfmSeg['M_Mean'] = rfmSeg['monetary_value'].apply(FMClass, args=('monetary_value',quartiles,))"
   ]
  },
  {
   "cell_type": "code",
   "execution_count": 18,
   "metadata": {},
   "outputs": [
    {
     "data": {
      "text/html": [
       "<div>\n",
       "<style scoped>\n",
       "    .dataframe tbody tr th:only-of-type {\n",
       "        vertical-align: middle;\n",
       "    }\n",
       "\n",
       "    .dataframe tbody tr th {\n",
       "        vertical-align: top;\n",
       "    }\n",
       "\n",
       "    .dataframe thead th {\n",
       "        text-align: right;\n",
       "    }\n",
       "</style>\n",
       "<table border=\"1\" class=\"dataframe\">\n",
       "  <thead>\n",
       "    <tr style=\"text-align: right;\">\n",
       "      <th></th>\n",
       "      <th>recency</th>\n",
       "      <th>frequency</th>\n",
       "      <th>monetary_value</th>\n",
       "      <th>R_Mean</th>\n",
       "      <th>F_Mean</th>\n",
       "      <th>M_Mean</th>\n",
       "    </tr>\n",
       "    <tr>\n",
       "      <th>UID</th>\n",
       "      <th></th>\n",
       "      <th></th>\n",
       "      <th></th>\n",
       "      <th></th>\n",
       "      <th></th>\n",
       "      <th></th>\n",
       "    </tr>\n",
       "  </thead>\n",
       "  <tbody>\n",
       "    <tr>\n",
       "      <th>1341104</th>\n",
       "      <td>108.877627</td>\n",
       "      <td>28</td>\n",
       "      <td>12950</td>\n",
       "      <td>1</td>\n",
       "      <td>0</td>\n",
       "      <td>0</td>\n",
       "    </tr>\n",
       "    <tr>\n",
       "      <th>1361552</th>\n",
       "      <td>75.383009</td>\n",
       "      <td>3</td>\n",
       "      <td>1015</td>\n",
       "      <td>0</td>\n",
       "      <td>1</td>\n",
       "      <td>1</td>\n",
       "    </tr>\n",
       "    <tr>\n",
       "      <th>1368368</th>\n",
       "      <td>94.882743</td>\n",
       "      <td>116</td>\n",
       "      <td>249300</td>\n",
       "      <td>1</td>\n",
       "      <td>0</td>\n",
       "      <td>0</td>\n",
       "    </tr>\n",
       "    <tr>\n",
       "      <th>1369904</th>\n",
       "      <td>100.724826</td>\n",
       "      <td>60</td>\n",
       "      <td>104260</td>\n",
       "      <td>1</td>\n",
       "      <td>0</td>\n",
       "      <td>0</td>\n",
       "    </tr>\n",
       "    <tr>\n",
       "      <th>1374736</th>\n",
       "      <td>66.150521</td>\n",
       "      <td>18</td>\n",
       "      <td>20300</td>\n",
       "      <td>0</td>\n",
       "      <td>0</td>\n",
       "      <td>0</td>\n",
       "    </tr>\n",
       "  </tbody>\n",
       "</table>\n",
       "</div>"
      ],
      "text/plain": [
       "            recency  frequency  monetary_value  R_Mean  F_Mean  M_Mean\n",
       "UID                                                                   \n",
       "1341104  108.877627         28           12950       1       0       0\n",
       "1361552   75.383009          3            1015       0       1       1\n",
       "1368368   94.882743        116          249300       1       0       0\n",
       "1369904  100.724826         60          104260       1       0       0\n",
       "1374736   66.150521         18           20300       0       0       0"
      ]
     },
     "execution_count": 18,
     "metadata": {},
     "output_type": "execute_result"
    }
   ],
   "source": [
    "rfmSeg.head()"
   ]
  },
  {
   "cell_type": "code",
   "execution_count": 19,
   "metadata": {},
   "outputs": [],
   "source": [
    "def playerClassify(a,b):\n",
    "    val = a\n",
    "    if val == \"111\":\n",
    "        rank = 1\n",
    "    elif val == \"110\":\n",
    "        rank = 2\n",
    "    elif val == \"101\":\n",
    "        rank = 3\n",
    "    elif val == \"011\":\n",
    "        rank = 4    \n",
    "    elif val == \"100\":\n",
    "        rank = 5    \n",
    "    elif val == \"010\":\n",
    "        rank = 6    \n",
    "    elif val == \"001\":\n",
    "        rank = 7    \n",
    "    else:\n",
    "        rank = 8 \n",
    "    return rank\n",
    "        \n",
    "rfmPlayerSegment = rfmSeg    \n",
    "rfmPlayerSegment['Score'] = rfmPlayerSegment.R_Mean.map(str) \\\n",
    "                            + rfmSeg.F_Mean.map(str) \\\n",
    "                            + rfmSeg.M_Mean.map(str)\n"
   ]
  },
  {
   "cell_type": "code",
   "execution_count": 20,
   "metadata": {},
   "outputs": [
    {
     "data": {
      "text/html": [
       "<div>\n",
       "<style scoped>\n",
       "    .dataframe tbody tr th:only-of-type {\n",
       "        vertical-align: middle;\n",
       "    }\n",
       "\n",
       "    .dataframe tbody tr th {\n",
       "        vertical-align: top;\n",
       "    }\n",
       "\n",
       "    .dataframe thead th {\n",
       "        text-align: right;\n",
       "    }\n",
       "</style>\n",
       "<table border=\"1\" class=\"dataframe\">\n",
       "  <thead>\n",
       "    <tr style=\"text-align: right;\">\n",
       "      <th></th>\n",
       "      <th>recency</th>\n",
       "      <th>frequency</th>\n",
       "      <th>monetary_value</th>\n",
       "      <th>R_Mean</th>\n",
       "      <th>F_Mean</th>\n",
       "      <th>M_Mean</th>\n",
       "      <th>Score</th>\n",
       "      <th>Rank</th>\n",
       "    </tr>\n",
       "    <tr>\n",
       "      <th>UID</th>\n",
       "      <th></th>\n",
       "      <th></th>\n",
       "      <th></th>\n",
       "      <th></th>\n",
       "      <th></th>\n",
       "      <th></th>\n",
       "      <th></th>\n",
       "      <th></th>\n",
       "    </tr>\n",
       "  </thead>\n",
       "  <tbody>\n",
       "    <tr>\n",
       "      <th>1341104</th>\n",
       "      <td>108.877627</td>\n",
       "      <td>28</td>\n",
       "      <td>12950</td>\n",
       "      <td>1</td>\n",
       "      <td>0</td>\n",
       "      <td>0</td>\n",
       "      <td>100</td>\n",
       "      <td>5</td>\n",
       "    </tr>\n",
       "    <tr>\n",
       "      <th>1361552</th>\n",
       "      <td>75.383009</td>\n",
       "      <td>3</td>\n",
       "      <td>1015</td>\n",
       "      <td>0</td>\n",
       "      <td>1</td>\n",
       "      <td>1</td>\n",
       "      <td>011</td>\n",
       "      <td>4</td>\n",
       "    </tr>\n",
       "    <tr>\n",
       "      <th>1368368</th>\n",
       "      <td>94.882743</td>\n",
       "      <td>116</td>\n",
       "      <td>249300</td>\n",
       "      <td>1</td>\n",
       "      <td>0</td>\n",
       "      <td>0</td>\n",
       "      <td>100</td>\n",
       "      <td>5</td>\n",
       "    </tr>\n",
       "    <tr>\n",
       "      <th>1369904</th>\n",
       "      <td>100.724826</td>\n",
       "      <td>60</td>\n",
       "      <td>104260</td>\n",
       "      <td>1</td>\n",
       "      <td>0</td>\n",
       "      <td>0</td>\n",
       "      <td>100</td>\n",
       "      <td>5</td>\n",
       "    </tr>\n",
       "    <tr>\n",
       "      <th>1374736</th>\n",
       "      <td>66.150521</td>\n",
       "      <td>18</td>\n",
       "      <td>20300</td>\n",
       "      <td>0</td>\n",
       "      <td>0</td>\n",
       "      <td>0</td>\n",
       "      <td>000</td>\n",
       "      <td>8</td>\n",
       "    </tr>\n",
       "  </tbody>\n",
       "</table>\n",
       "</div>"
      ],
      "text/plain": [
       "            recency  frequency  monetary_value  R_Mean  F_Mean  M_Mean Score  \\\n",
       "UID                                                                            \n",
       "1341104  108.877627         28           12950       1       0       0   100   \n",
       "1361552   75.383009          3            1015       0       1       1   011   \n",
       "1368368   94.882743        116          249300       1       0       0   100   \n",
       "1369904  100.724826         60          104260       1       0       0   100   \n",
       "1374736   66.150521         18           20300       0       0       0   000   \n",
       "\n",
       "         Rank  \n",
       "UID            \n",
       "1341104     5  \n",
       "1361552     4  \n",
       "1368368     5  \n",
       "1369904     5  \n",
       "1374736     8  "
      ]
     },
     "execution_count": 20,
     "metadata": {},
     "output_type": "execute_result"
    }
   ],
   "source": [
    "rfmPlayerSegment['Rank'] = rfmPlayerSegment['Score'].apply(playerClassify, args=('Score',))\n",
    "rfmPlayerSegment.head()"
   ]
  },
  {
   "cell_type": "code",
   "execution_count": 22,
   "metadata": {},
   "outputs": [],
   "source": [
    "rfmPlayerSegment.to_csv(\"clean_tables\\\\rfmPlayerSegment_new.csv\")"
   ]
  },
  {
   "cell_type": "code",
   "execution_count": null,
   "metadata": {},
   "outputs": [],
   "source": []
  },
  {
   "cell_type": "code",
   "execution_count": null,
   "metadata": {},
   "outputs": [],
   "source": []
  },
  {
   "cell_type": "code",
   "execution_count": null,
   "metadata": {},
   "outputs": [],
   "source": []
  },
  {
   "cell_type": "code",
   "execution_count": null,
   "metadata": {},
   "outputs": [],
   "source": []
  },
  {
   "cell_type": "code",
   "execution_count": null,
   "metadata": {},
   "outputs": [],
   "source": []
  },
  {
   "cell_type": "code",
   "execution_count": 23,
   "metadata": {},
   "outputs": [],
   "source": [
    "# 這邊先不理他 還不知道到底要幹嘛用\n",
    "from sklearn.cluster import KMeans\n",
    "\n",
    "wcss = []\n",
    "for i in range(1,11):\n",
    "    kmeans = KMeans(n_clusters=i, init='k-means++', random_state=0)\n",
    "    kmeans.fit(rfmTable)\n",
    "    wcss.append(kmeans.inertia_)"
   ]
  },
  {
   "cell_type": "code",
   "execution_count": 24,
   "metadata": {},
   "outputs": [
    {
     "data": {
      "image/png": "[encoded data removed]",
      "text/plain": [
       "<Figure size 432x288 with 1 Axes>"
      ]
     },
     "metadata": {
      "needs_background": "light"
     },
     "output_type": "display_data"
    }
   ],
   "source": [
    "plt.plot(range(1,11), wcss)\n",
    "plt.title('Elbow graph')\n",
    "plt.xlabel('Cluster number')\n",
    "plt.ylabel('WCSS')\n",
    "plt.show()   #from the result, we can see thata the optimal number of clusters would be 4"
   ]
  },
  {
   "cell_type": "code",
   "execution_count": 25,
   "metadata": {},
   "outputs": [],
   "source": [
    "kmeans = KMeans(n_clusters=4, init='k-means++', random_state=0)\n",
    "clusters = kmeans.fit_predict(rfmTable)"
   ]
  },
  {
   "cell_type": "code",
   "execution_count": 26,
   "metadata": {},
   "outputs": [
    {
     "data": {
      "text/html": [
       "<div>\n",
       "<style scoped>\n",
       "    .dataframe tbody tr th:only-of-type {\n",
       "        vertical-align: middle;\n",
       "    }\n",
       "\n",
       "    .dataframe tbody tr th {\n",
       "        vertical-align: top;\n",
       "    }\n",
       "\n",
       "    .dataframe thead th {\n",
       "        text-align: right;\n",
       "    }\n",
       "</style>\n",
       "<table border=\"1\" class=\"dataframe\">\n",
       "  <thead>\n",
       "    <tr style=\"text-align: right;\">\n",
       "      <th></th>\n",
       "      <th>recency</th>\n",
       "      <th>frequency</th>\n",
       "      <th>monetary_value</th>\n",
       "      <th>R_Mean</th>\n",
       "      <th>F_Mean</th>\n",
       "      <th>M_Mean</th>\n",
       "      <th>Score</th>\n",
       "      <th>Rank</th>\n",
       "      <th>clusters</th>\n",
       "    </tr>\n",
       "    <tr>\n",
       "      <th>UID</th>\n",
       "      <th></th>\n",
       "      <th></th>\n",
       "      <th></th>\n",
       "      <th></th>\n",
       "      <th></th>\n",
       "      <th></th>\n",
       "      <th></th>\n",
       "      <th></th>\n",
       "      <th></th>\n",
       "    </tr>\n",
       "  </thead>\n",
       "  <tbody>\n",
       "    <tr>\n",
       "      <th>1341104</th>\n",
       "      <td>108.877627</td>\n",
       "      <td>28</td>\n",
       "      <td>12950</td>\n",
       "      <td>1</td>\n",
       "      <td>0</td>\n",
       "      <td>0</td>\n",
       "      <td>100</td>\n",
       "      <td>5</td>\n",
       "      <td>0</td>\n",
       "    </tr>\n",
       "    <tr>\n",
       "      <th>1361552</th>\n",
       "      <td>75.383009</td>\n",
       "      <td>3</td>\n",
       "      <td>1015</td>\n",
       "      <td>0</td>\n",
       "      <td>1</td>\n",
       "      <td>1</td>\n",
       "      <td>011</td>\n",
       "      <td>4</td>\n",
       "      <td>0</td>\n",
       "    </tr>\n",
       "    <tr>\n",
       "      <th>1368368</th>\n",
       "      <td>94.882743</td>\n",
       "      <td>116</td>\n",
       "      <td>249300</td>\n",
       "      <td>1</td>\n",
       "      <td>0</td>\n",
       "      <td>0</td>\n",
       "      <td>100</td>\n",
       "      <td>5</td>\n",
       "      <td>3</td>\n",
       "    </tr>\n",
       "    <tr>\n",
       "      <th>1369904</th>\n",
       "      <td>100.724826</td>\n",
       "      <td>60</td>\n",
       "      <td>104260</td>\n",
       "      <td>1</td>\n",
       "      <td>0</td>\n",
       "      <td>0</td>\n",
       "      <td>100</td>\n",
       "      <td>5</td>\n",
       "      <td>3</td>\n",
       "    </tr>\n",
       "    <tr>\n",
       "      <th>1374736</th>\n",
       "      <td>66.150521</td>\n",
       "      <td>18</td>\n",
       "      <td>20300</td>\n",
       "      <td>0</td>\n",
       "      <td>0</td>\n",
       "      <td>0</td>\n",
       "      <td>000</td>\n",
       "      <td>8</td>\n",
       "      <td>0</td>\n",
       "    </tr>\n",
       "  </tbody>\n",
       "</table>\n",
       "</div>"
      ],
      "text/plain": [
       "            recency  frequency  monetary_value  R_Mean  F_Mean  M_Mean Score  \\\n",
       "UID                                                                            \n",
       "1341104  108.877627         28           12950       1       0       0   100   \n",
       "1361552   75.383009          3            1015       0       1       1   011   \n",
       "1368368   94.882743        116          249300       1       0       0   100   \n",
       "1369904  100.724826         60          104260       1       0       0   100   \n",
       "1374736   66.150521         18           20300       0       0       0   000   \n",
       "\n",
       "         Rank  clusters  \n",
       "UID                      \n",
       "1341104     5         0  \n",
       "1361552     4         0  \n",
       "1368368     5         3  \n",
       "1369904     5         3  \n",
       "1374736     8         0  "
      ]
     },
     "execution_count": 26,
     "metadata": {},
     "output_type": "execute_result"
    }
   ],
   "source": [
    "rfmTable['clusters'] = clusters\n",
    "rfmTable.head()"
   ]
  },
  {
   "cell_type": "code",
   "execution_count": 27,
   "metadata": {},
   "outputs": [
    {
     "data": {
      "text/plain": [
       "Text(0.5,0,'Monetary')"
      ]
     },
     "execution_count": 27,
     "metadata": {},
     "output_type": "execute_result"
    },
    {
     "data": {
      "image/png": "[encoded data removed]",
      "text/plain": [
       "<Figure size 1080x720 with 1 Axes>"
      ]
     },
     "metadata": {
      "needs_background": "light"
     },
     "output_type": "display_data"
    }
   ],
   "source": [
    "from mpl_toolkits.mplot3d import Axes3D\n",
    "\n",
    "fig = plt.figure(figsize=(15,10))\n",
    "ax = fig.add_subplot(111, projection='3d')\n",
    "\n",
    "ax.scatter(rfmTable.recency, rfmTable.frequency, rfmTable.monetary_value, s=50)\n",
    "\n",
    "ax.set_xlabel('Recency')\n",
    "ax.set_ylabel('Frequency')\n",
    "ax.set_zlabel('Monetary')"
   ]
  },
  {
   "cell_type": "code",
   "execution_count": null,
   "metadata": {},
   "outputs": [],
   "source": []
  }
 ],
 "metadata": {
  "kernelspec": {
   "display_name": "Python 3",
   "language": "python",
   "name": "python3"
  },
  "language_info": {
   "codemirror_mode": {
    "name": "ipython",
    "version": 3
   },
   "file_extension": ".py",
   "mimetype": "text/x-python",
   "name": "python",
   "nbconvert_exporter": "python",
   "pygments_lexer": "ipython3",
   "version": "3.7.4"
  }
 },
 "nbformat": 4,
 "nbformat_minor": 2
}
